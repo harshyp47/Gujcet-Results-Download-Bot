{
  "nbformat": 4,
  "nbformat_minor": 0,
  "metadata": {
    "colab": {
      "name": "GujcetResult.ipynb",
      "provenance": [],
      "authorship_tag": "ABX9TyOZgrCwX8CJOkEjYdiWOMF7",
      "include_colab_link": true
    },
    "kernelspec": {
      "name": "python3",
      "display_name": "Python 3"
    },
    "language_info": {
      "name": "python"
    }
  },
  "cells": [
    {
      "cell_type": "markdown",
      "metadata": {
        "id": "view-in-github",
        "colab_type": "text"
      },
      "source": [
        "<a href=\"https://colab.research.google.com/github/harshyp47/Gujcet-Results-Download-Bot/blob/main/GujcetResult.ipynb\" target=\"_parent\"><img src=\"https://colab.research.google.com/assets/colab-badge.svg\" alt=\"Open In Colab\"/></a>"
      ]
    },
    {
      "cell_type": "markdown",
      "metadata": {
        "id": "sxMMRHdUfnI9"
      },
      "source": [
        "# **Downloading Lacs of results of GUJCET-2021 using WebScrapping (Recently Tested)**"
      ]
    },
    {
      "cell_type": "code",
      "metadata": {
        "id": "QmQnZfdQz08H",
        "colab": {
          "base_uri": "https://localhost:8080/"
        },
        "outputId": "1de3a6fd-b629-48c2-9bb1-e65f813d0d4d"
      },
      "source": [
        "from bs4 import BeautifulSoup\n",
        "import requests\n",
        "import ssl\n",
        "import pandas as pd\n",
        "\n",
        "\n",
        "\n",
        "\n",
        "res = []\n",
        "\n",
        "l = 410000\n",
        "h = 510000\n",
        "\n",
        "for seat in range(l,h+1):\n",
        "\n",
        "  try:\n",
        "\n",
        "    #page = requests.get(\"https://www.gseb.org/812lacigam/sci/E41/62/E416276.html\", verify=False)\n",
        "\n",
        "\n",
        "    page = requests.get(\"https://www.gseb.org/812lacigam/sci/E\" + str(seat)[0:2] + \"/\" + str(seat)[2:4] + \"/\" + \"E\" + str(seat) + \".html\" , verify = False)\n",
        "    soup = BeautifulSoup(page.content, 'html.parser')\n",
        "\n",
        "    total_marks = soup.find_all('tr')[6].find_all('td')[0].find_all('span')[1].get_text()\n",
        "\n",
        "    name = soup.find_all('tr')[1].find_all('td')[0].find_all('span')[1].get_text()\n",
        "\n",
        "    tmp = [seat, name, total_marks]\n",
        "\n",
        "    print(seat,name,total_marks)\n",
        "\n",
        "    res.append(tmp)\n",
        "    df = pd.DataFrame(res, columns =['SeatNo.', 'Name', 'TotalMarks'])\n",
        "    path = str(l) + \"-to-\" + str(h) +\".csv\"\n",
        "\n",
        "    df.to_csv(path)\n",
        "\n",
        "  except:\n",
        "    pass\n"
      ],
      "execution_count": null,
      "outputs": [
        {
          "output_type": "stream",
          "text": [
            "/usr/local/lib/python3.7/dist-packages/urllib3/connectionpool.py:847: InsecureRequestWarning: Unverified HTTPS request is being made. Adding certificate verification is strongly advised. See: https://urllib3.readthedocs.io/en/latest/advanced-usage.html#ssl-warnings\n",
            "  InsecureRequestWarning)\n"
          ],
          "name": "stderr"
        },
        {
          "output_type": "stream",
          "text": [
            "418057 RAVRANI NENCY SANJAY 16.25\n"
          ],
          "name": "stdout"
        },
        {
          "output_type": "stream",
          "text": [
            "/usr/local/lib/python3.7/dist-packages/urllib3/connectionpool.py:847: InsecureRequestWarning: Unverified HTTPS request is being made. Adding certificate verification is strongly advised. See: https://urllib3.readthedocs.io/en/latest/advanced-usage.html#ssl-warnings\n",
            "  InsecureRequestWarning)\n"
          ],
          "name": "stderr"
        },
        {
          "output_type": "stream",
          "text": [
            "418058 AHIR NUPUR KAMALESHBHAI 35.00\n"
          ],
          "name": "stdout"
        },
        {
          "output_type": "stream",
          "text": [
            "/usr/local/lib/python3.7/dist-packages/urllib3/connectionpool.py:847: InsecureRequestWarning: Unverified HTTPS request is being made. Adding certificate verification is strongly advised. See: https://urllib3.readthedocs.io/en/latest/advanced-usage.html#ssl-warnings\n",
            "  InsecureRequestWarning)\n"
          ],
          "name": "stderr"
        },
        {
          "output_type": "stream",
          "text": [
            "418059 VAGHAMASHI NIRMALKUMAR RAMESHBHAI 15.75\n"
          ],
          "name": "stdout"
        },
        {
          "output_type": "stream",
          "text": [
            "/usr/local/lib/python3.7/dist-packages/urllib3/connectionpool.py:847: InsecureRequestWarning: Unverified HTTPS request is being made. Adding certificate verification is strongly advised. See: https://urllib3.readthedocs.io/en/latest/advanced-usage.html#ssl-warnings\n",
            "  InsecureRequestWarning)\n"
          ],
          "name": "stderr"
        },
        {
          "output_type": "stream",
          "text": [
            "418061 CHAUDHARI NITALBEN ARVINDBHAI 28.00\n"
          ],
          "name": "stdout"
        },
        {
          "output_type": "stream",
          "text": [
            "/usr/local/lib/python3.7/dist-packages/urllib3/connectionpool.py:847: InsecureRequestWarning: Unverified HTTPS request is being made. Adding certificate verification is strongly advised. See: https://urllib3.readthedocs.io/en/latest/advanced-usage.html#ssl-warnings\n",
            "  InsecureRequestWarning)\n"
          ],
          "name": "stderr"
        },
        {
          "output_type": "stream",
          "text": [
            "418062 DANGAR NITESH MERAMANBHAI 27.50\n"
          ],
          "name": "stdout"
        },
        {
          "output_type": "stream",
          "text": [
            "/usr/local/lib/python3.7/dist-packages/urllib3/connectionpool.py:847: InsecureRequestWarning: Unverified HTTPS request is being made. Adding certificate verification is strongly advised. See: https://urllib3.readthedocs.io/en/latest/advanced-usage.html#ssl-warnings\n",
            "  InsecureRequestWarning)\n"
          ],
          "name": "stderr"
        },
        {
          "output_type": "stream",
          "text": [
            "418064 PRAJAPATI NIYATI PREMJIBHAI 12.75\n"
          ],
          "name": "stdout"
        }
      ]
    },
    {
      "cell_type": "code",
      "metadata": {
        "colab": {
          "base_uri": "https://localhost:8080/",
          "height": 450
        },
        "id": "6OS_hHRfElG4",
        "outputId": "2af352be-4b34-4b20-9418-5b5e61359272"
      },
      "source": [
        "#SEAT NO RANGE: 415435 - 416600\n",
        "\n",
        "df1 = pd.read_csv('/content/415435-to-415500.csv')\n",
        "df2 = pd.read_csv('/content/415500-to-416500.csv')\n",
        "df3 = pd.read_csv('/content/416500-to-416600.csv')\n",
        "\n",
        "frames = [df1, df2, df3]\n",
        "\n",
        "result = pd.concat(frames)\n",
        "\n",
        "\n",
        "\n",
        "result[result.TotalMarks > 100]"
      ],
      "execution_count": null,
      "outputs": [
        {
          "output_type": "execute_result",
          "data": {
            "text/html": [
              "<div>\n",
              "<style scoped>\n",
              "    .dataframe tbody tr th:only-of-type {\n",
              "        vertical-align: middle;\n",
              "    }\n",
              "\n",
              "    .dataframe tbody tr th {\n",
              "        vertical-align: top;\n",
              "    }\n",
              "\n",
              "    .dataframe thead th {\n",
              "        text-align: right;\n",
              "    }\n",
              "</style>\n",
              "<table border=\"1\" class=\"dataframe\">\n",
              "  <thead>\n",
              "    <tr style=\"text-align: right;\">\n",
              "      <th></th>\n",
              "      <th>Unnamed: 0</th>\n",
              "      <th>SeatNo.</th>\n",
              "      <th>Name</th>\n",
              "      <th>TotalMarks</th>\n",
              "    </tr>\n",
              "  </thead>\n",
              "  <tbody>\n",
              "    <tr>\n",
              "      <th>75</th>\n",
              "      <td>75</td>\n",
              "      <td>415575</td>\n",
              "      <td>NAKUM CHIRAG DAYABHAI</td>\n",
              "      <td>103.75</td>\n",
              "    </tr>\n",
              "    <tr>\n",
              "      <th>301</th>\n",
              "      <td>301</td>\n",
              "      <td>415801</td>\n",
              "      <td>KORAT JAIMIN PARSOTAMBHAI</td>\n",
              "      <td>113.75</td>\n",
              "    </tr>\n",
              "    <tr>\n",
              "      <th>411</th>\n",
              "      <td>411</td>\n",
              "      <td>415911</td>\n",
              "      <td>TALAVIYA KARTIK VINODKUMAR</td>\n",
              "      <td>111.25</td>\n",
              "    </tr>\n",
              "    <tr>\n",
              "      <th>436</th>\n",
              "      <td>436</td>\n",
              "      <td>415936</td>\n",
              "      <td>MEHTA KRUTI NILESHBHAI</td>\n",
              "      <td>104.00</td>\n",
              "    </tr>\n",
              "    <tr>\n",
              "      <th>536</th>\n",
              "      <td>536</td>\n",
              "      <td>416036</td>\n",
              "      <td>GONDALIYA MAMTABEN ASHOKBHAI</td>\n",
              "      <td>101.25</td>\n",
              "    </tr>\n",
              "    <tr>\n",
              "      <th>663</th>\n",
              "      <td>663</td>\n",
              "      <td>416163</td>\n",
              "      <td>VARIYA PRINSKUMAR MUKESHBHAI</td>\n",
              "      <td>104.00</td>\n",
              "    </tr>\n",
              "    <tr>\n",
              "      <th>776</th>\n",
              "      <td>776</td>\n",
              "      <td>416276</td>\n",
              "      <td>PARMAR RIYA YOGESHBHAI</td>\n",
              "      <td>111.00</td>\n",
              "    </tr>\n",
              "    <tr>\n",
              "      <th>903</th>\n",
              "      <td>903</td>\n",
              "      <td>416403</td>\n",
              "      <td>MERIYA TUSHAR JAYANTIBHAI</td>\n",
              "      <td>102.50</td>\n",
              "    </tr>\n",
              "    <tr>\n",
              "      <th>964</th>\n",
              "      <td>964</td>\n",
              "      <td>416464</td>\n",
              "      <td>BALADANIYA VISHAL BHUPATBHAI</td>\n",
              "      <td>101.25</td>\n",
              "    </tr>\n",
              "    <tr>\n",
              "      <th>5</th>\n",
              "      <td>5</td>\n",
              "      <td>416505</td>\n",
              "      <td>MAKRANI ATIK YASINBHAI</td>\n",
              "      <td>117.00</td>\n",
              "    </tr>\n",
              "    <tr>\n",
              "      <th>8</th>\n",
              "      <td>8</td>\n",
              "      <td>416508</td>\n",
              "      <td>KANANI AKASH DAKUBHAI</td>\n",
              "      <td>101.50</td>\n",
              "    </tr>\n",
              "    <tr>\n",
              "      <th>17</th>\n",
              "      <td>17</td>\n",
              "      <td>416517</td>\n",
              "      <td>YADAV ASHISH ASHOKBHAI</td>\n",
              "      <td>101.25</td>\n",
              "    </tr>\n",
              "    <tr>\n",
              "      <th>63</th>\n",
              "      <td>63</td>\n",
              "      <td>416563</td>\n",
              "      <td>DHOLARIYA BHAUTIK JAYANTIBHAI</td>\n",
              "      <td>106.25</td>\n",
              "    </tr>\n",
              "  </tbody>\n",
              "</table>\n",
              "</div>"
            ],
            "text/plain": [
              "     Unnamed: 0  SeatNo.                           Name  TotalMarks\n",
              "75           75   415575          NAKUM CHIRAG DAYABHAI      103.75\n",
              "301         301   415801      KORAT JAIMIN PARSOTAMBHAI      113.75\n",
              "411         411   415911     TALAVIYA KARTIK VINODKUMAR      111.25\n",
              "436         436   415936         MEHTA KRUTI NILESHBHAI      104.00\n",
              "536         536   416036   GONDALIYA MAMTABEN ASHOKBHAI      101.25\n",
              "663         663   416163   VARIYA PRINSKUMAR MUKESHBHAI      104.00\n",
              "776         776   416276         PARMAR RIYA YOGESHBHAI      111.00\n",
              "903         903   416403      MERIYA TUSHAR JAYANTIBHAI      102.50\n",
              "964         964   416464   BALADANIYA VISHAL BHUPATBHAI      101.25\n",
              "5             5   416505         MAKRANI ATIK YASINBHAI      117.00\n",
              "8             8   416508          KANANI AKASH DAKUBHAI      101.50\n",
              "17           17   416517         YADAV ASHISH ASHOKBHAI      101.25\n",
              "63           63   416563  DHOLARIYA BHAUTIK JAYANTIBHAI      106.25"
            ]
          },
          "metadata": {},
          "execution_count": 21
        }
      ]
    },
    {
      "cell_type": "code",
      "metadata": {
        "id": "vg6tkXDUTFbM"
      },
      "source": [
        "result.to_csv(\"Amreli-GujcetResult.csv\")"
      ],
      "execution_count": null,
      "outputs": []
    }
  ]
}